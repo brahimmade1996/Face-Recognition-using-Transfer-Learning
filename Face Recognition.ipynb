{
 "cells": [
  {
   "cell_type": "code",
   "execution_count": 2,
   "metadata": {},
   "outputs": [],
   "source": [
    "# import modules\n",
    "import numpy as np \n",
    "import cv2\n",
    "import os"
   ]
  },
  {
   "cell_type": "code",
   "execution_count": 3,
   "metadata": {},
   "outputs": [],
   "source": [
    "# Creating a KNN Model to learn from face dataset.\n",
    "\n",
    "def distance(X1,X2):        #Euclidean Distance\n",
    "    return np.sqrt(((X1-X2)**2).sum())            \n",
    "\n",
    "def KNN(train, test, K=51):\n",
    "    #print(train[0,:-1])\n",
    "    dist = []\n",
    "    for i in range(train.shape[0]):\n",
    "        ix = train[i,:-1]\n",
    "        iy = train[i,-1]\n",
    "        d = distance(test,ix)\n",
    "        dist.append([d,iy])\n",
    "\n",
    "    dist = sorted(dist,key = lambda x:x[0])[:K]\n",
    "\n",
    "    labels = np.array(dist)[:,-1]\n",
    "\n",
    "    out = np.unique(labels,return_counts = True)\n",
    "    index = np.argmax([out[1]])\n",
    "\n",
    "    return out[0][index]\n"
   ]
  },
  {
   "cell_type": "code",
   "execution_count": 4,
   "metadata": {},
   "outputs": [
    {
     "name": "stdout",
     "output_type": "stream",
     "text": [
      "Data Loaded Successfully ./Dataset/ishu.npy\n"
     ]
    }
   ],
   "source": [
    "# Load Dataset \n",
    "\n",
    "# Path of dataset\n",
    "dataset_path = './Dataset/'\n",
    "\n",
    "face_data = []\n",
    "labels = []\n",
    "names={}\n",
    "class_id = 0\n",
    "\n",
    "for fx in os.listdir(dataset_path):\n",
    "    if(fx.endswith('.npy')):\n",
    "        print(\"Data Loaded Successfully\",dataset_path+fx)\n",
    "        names[class_id] = fx[:-4]\n",
    "        data_item = np.load(dataset_path + fx)\n",
    "        face_data.append(data_item)\n",
    "\n",
    "        target = class_id * np.ones((data_item.shape[0],))\n",
    "        class_id +=1\n",
    "        labels.append(target)\n",
    "\n",
    "face_dataset = np.concatenate(face_data,axis = 0)\n",
    "face_labels = np.concatenate(labels,axis = 0).reshape((-1,1))\n",
    "\n",
    "trainset = np.concatenate((face_dataset,face_labels),axis = 1)"
   ]
  },
  {
   "cell_type": "code",
   "execution_count": 5,
   "metadata": {},
   "outputs": [],
   "source": [
    "# Start Recognition Model : Testing\n",
    "cap = cv2.VideoCapture(0)\n",
    "\n",
    "face_cascade = cv2.CascadeClassifier(\"haarcascade_frontalface_alt.xml\")\n",
    "eye_cascade = cv2.CascadeClassifier(\"haarcascade_eye.xml\")\n",
    "font = cv2.FONT_HERSHEY_SIMPLEX"
   ]
  },
  {
   "cell_type": "code",
   "execution_count": 7,
   "metadata": {},
   "outputs": [],
   "source": [
    "while True:\n",
    "    # capture image\n",
    "    satus,frame = cap.read()\n",
    "    if(satus == False): #if capture failed so pass\n",
    "        continue\n",
    "    \n",
    "    # Convert captured image to gray scale\n",
    "    g_frame = cv2.cvtColor(frame,cv2.COLOR_BGR2GRAY)\n",
    "    \n",
    "    #detect face from captured frame/image\n",
    "    faces = face_cascade.detectMultiScale(g_frame,1.3,5)\n",
    "\n",
    "    for face in faces:  #loop for all detected faces from current captured image/frame\n",
    "        x,y,w,h = face\n",
    "\n",
    "        offset =5\n",
    "        face_section = frame[y-offset:y+h+offset,x-offset:x+w+offset]\n",
    "        face_section = cv2.resize(face_section,(100,100))\n",
    "\n",
    "        out = KNN(trainset,face_section.flatten())     #pass these to our KNN Model\n",
    "\n",
    "        cv2.putText(frame,names[int(out)],(x,y-10),font,1,(0,255,255),2,cv2.LINE_AA)\n",
    "        cv2.rectangle(frame,(x,y),(x+w,y+h),(0,255,255),2)\n",
    "\n",
    "        eye_section_gray = g_frame[y:y+h, x:x+w]\n",
    "        \n",
    "        #detect eyes of thge person for better understanding.\n",
    "        eyes = eye_cascade.detectMultiScale(eye_section_gray,1.3,5)\n",
    "\n",
    "        for eye in eyes:\n",
    "            ex,ey,ew,eh = eye\n",
    "\n",
    "            cv2.rectangle(frame,(x+ex,y+ey),(x+ex+ew,y+eh+ey),(0,255,0),2)\n",
    "            \n",
    "    cv2.imshow(\"frame\",frame)  #show image\n",
    "\n",
    "    if(cv2.waitKey(1) & 0xFF == 13):  #if pressed enter key, the loop will break and come outy i.e execution of face recognition stops.\n",
    "        break\n",
    "\n",
    "# stop camera\n",
    "cap.release()\n",
    "\n",
    "# destroy all created windows\n",
    "cv2.destroyAllWindows()\n"
   ]
  },
  {
   "cell_type": "code",
   "execution_count": null,
   "metadata": {},
   "outputs": [],
   "source": []
  }
 ],
 "metadata": {
  "kernelspec": {
   "display_name": "Python 3",
   "language": "python",
   "name": "python3"
  },
  "language_info": {
   "codemirror_mode": {
    "name": "ipython",
    "version": 3
   },
   "file_extension": ".py",
   "mimetype": "text/x-python",
   "name": "python",
   "nbconvert_exporter": "python",
   "pygments_lexer": "ipython3",
   "version": "3.6.10"
  }
 },
 "nbformat": 4,
 "nbformat_minor": 4
}
