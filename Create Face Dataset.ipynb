{
 "cells": [
  {
   "cell_type": "code",
   "execution_count": 1,
   "metadata": {},
   "outputs": [],
   "source": [
    "#import modules : \n",
    "import numpy as np \n",
    "import cv2"
   ]
  },
  {
   "cell_type": "code",
   "execution_count": 2,
   "metadata": {},
   "outputs": [],
   "source": [
    "#start camera\n",
    "cap = cv2.VideoCapture(0)    "
   ]
  },
  {
   "cell_type": "code",
   "execution_count": 3,
   "metadata": {},
   "outputs": [],
   "source": [
    "#load Haarcascade Frontal Face detection model:\n",
    "face_cascade = cv2.CascadeClassifier(\"haarcascade_frontalface_alt.xml\")"
   ]
  },
  {
   "cell_type": "code",
   "execution_count": 4,
   "metadata": {},
   "outputs": [],
   "source": [
    "# Path where data is to be saved/stored\n",
    "dataset_path = './Dataset/'"
   ]
  },
  {
   "cell_type": "code",
   "execution_count": 5,
   "metadata": {},
   "outputs": [
    {
     "name": "stdout",
     "output_type": "stream",
     "text": [
      "Enter the Name : ishu\n"
     ]
    }
   ],
   "source": [
    "face_data = []\n",
    "skip = 0\n",
    "# Person whose data is been created i.e image will be now labelled by this name\n",
    "file_name = input(\"Enter the Name : \")   "
   ]
  },
  {
   "cell_type": "code",
   "execution_count": 6,
   "metadata": {},
   "outputs": [
    {
     "name": "stdout",
     "output_type": "stream",
     "text": [
      "1\n",
      "2\n",
      "3\n",
      "4\n",
      "5\n",
      "6\n",
      "7\n",
      "8\n",
      "9\n",
      "10\n",
      "11\n",
      "12\n",
      "13\n",
      "14\n",
      "15\n",
      "16\n",
      "17\n",
      "18\n",
      "19\n",
      "20\n",
      "21\n",
      "22\n",
      "23\n",
      "24\n",
      "25\n",
      "26\n",
      "27\n",
      "28\n",
      "29\n",
      "30\n",
      "31\n",
      "32\n",
      "33\n",
      "34\n",
      "35\n",
      "36\n",
      "37\n",
      "38\n",
      "39\n",
      "40\n",
      "41\n",
      "42\n",
      "43\n",
      "44\n",
      "45\n",
      "46\n",
      "47\n",
      "48\n",
      "49\n",
      "50\n",
      "51\n",
      "52\n",
      "53\n",
      "54\n",
      "55\n",
      "56\n",
      "57\n",
      "58\n",
      "59\n",
      "60\n",
      "61\n",
      "62\n",
      "63\n",
      "64\n",
      "65\n",
      "66\n",
      "67\n",
      "68\n",
      "69\n",
      "70\n",
      "71\n",
      "72\n",
      "73\n",
      "74\n",
      "75\n",
      "76\n",
      "77\n",
      "78\n",
      "79\n",
      "80\n",
      "81\n",
      "82\n",
      "83\n",
      "84\n",
      "85\n",
      "86\n",
      "87\n",
      "88\n",
      "89\n",
      "90\n",
      "91\n",
      "92\n",
      "93\n",
      "94\n",
      "95\n",
      "96\n",
      "97\n",
      "98\n",
      "99\n",
      "100\n",
      "101\n"
     ]
    }
   ],
   "source": [
    "while True:\n",
    "    # capture image    \n",
    "    status,frame = cap.read()\n",
    "    \n",
    "    # convert this captured image to gray scale\n",
    "    g_frame = cv2.cvtColor(frame,cv2.COLOR_BGR2GRAY)\n",
    "    \n",
    "    if(status == False):  #if nothing captured so pass\n",
    "        continue\n",
    "\n",
    "    # detect face from entire captured image/frame\n",
    "    faces = face_cascade.detectMultiScale(g_frame,1.3,5)   \n",
    "\n",
    "    if(len(faces)==0):   #if face not detected so pass\n",
    "        continue\n",
    "\n",
    "    faces = sorted(faces,key = lambda f:f[2]*f[3],reverse = True)\n",
    "\n",
    "\n",
    "    for face in faces[:1]:   # loop for all detected faces in the current captured frame/image\n",
    "        x,y,w,h = face\n",
    "        cv2.rectangle(frame,(x,y),(x+w,y+h),(0,255,255),2)   # Create a rectangle arround the detected faces\n",
    "        cv2.imshow(\"Frame\",frame)   #show image\n",
    "\n",
    "        offset = 5\n",
    "\n",
    "        # select only detected face in captured frame for storing for our purpose of dataset\n",
    "        face_selection = frame[y-offset:y+offset+h,x-offset:x+offset+w]\n",
    "        face_section = cv2.resize(face_selection,(100,100))   #fixed sized images\n",
    "\n",
    "        #cv2.imshow('Face_Section',face_section)  #detected face\n",
    "\n",
    "        skip +=1\n",
    "        if(skip % 10 ==0 ):    #after every 10 detected faces my model will store the captured image\n",
    "            face_data.append(face_section)\n",
    "            print(len(face_data))\n",
    "\n",
    "\n",
    "    key_pressed = cv2.waitKey(1) & 0xFF\n",
    "    if(key_pressed == 13):     #if pressed enter so break the loop and stop capturing images\n",
    "        break\n",
    "       \n",
    "cap.release()                # stop camera\n",
    "cv2.destroyAllWindows()      # destroy creatred windows"
   ]
  },
  {
   "cell_type": "code",
   "execution_count": 7,
   "metadata": {},
   "outputs": [
    {
     "name": "stdout",
     "output_type": "stream",
     "text": [
      "Data Saved at Location :  ./Dataset/ishu.npy\n"
     ]
    }
   ],
   "source": [
    "face_data = np.array(face_data)\n",
    "#print(face_data) #detected images in numpy array\n",
    "\n",
    "face_data = face_data.reshape((face_data.shape[0],-1))\n",
    "\n",
    "# save all thses captured images in particulat path with \".npy\" extension.\n",
    "# .npy is a file that stores numpy array's data. in our case we have our images that are nothing but numpy array only.\n",
    "np.save(dataset_path+file_name+'.npy',face_data)     \n",
    "\n",
    "print(\"Data Saved at Location : \",dataset_path+file_name+\".npy\")\n"
   ]
  },
  {
   "cell_type": "code",
   "execution_count": null,
   "metadata": {},
   "outputs": [],
   "source": []
  }
 ],
 "metadata": {
  "kernelspec": {
   "display_name": "Python 3",
   "language": "python",
   "name": "python3"
  },
  "language_info": {
   "codemirror_mode": {
    "name": "ipython",
    "version": 3
   },
   "file_extension": ".py",
   "mimetype": "text/x-python",
   "name": "python",
   "nbconvert_exporter": "python",
   "pygments_lexer": "ipython3",
   "version": "3.6.10"
  }
 },
 "nbformat": 4,
 "nbformat_minor": 4
}
